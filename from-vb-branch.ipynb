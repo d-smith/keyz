{
 "cells": [
  {
   "cell_type": "markdown",
   "id": "5a95d3ef",
   "metadata": {},
   "source": [
    "## Deriving xpriv Fom xpub and a Child Private Key\n",
    "\n",
    "This notebook contains executable cells that illustrate the points made in [Deterministic Wallets, Their Advantages and Understated Flaws](https://bitcoinmagazine.com/technical/deterministic-wallets-advantages-flaw-1385450276)\n",
    "\n",
    "The code used to illustrate the points in the article was taken from the [patch-1 branch of pybitcointools](https://github.com/vbuterin/pybitcointools/tree/patch-1/cryptos), which was also written by the author of the article (and creator of Ethereum Vitalik Buterin). According to the readme in the main branch, this library is no longer supported, but has been forked into another library linked to in the readme. However, the code below does not work as expected when using this new library, so I've extracted into this repository the subset of code from pybitcointools to provided the example from the article.\n"
   ]
  },
  {
   "cell_type": "code",
   "execution_count": 2,
   "id": "796d224f",
   "metadata": {
    "scrolled": true
   },
   "outputs": [],
   "source": [
    "# Importing from the excerpted pybitcointools code\n",
    "from pybctexcerpt import *"
   ]
  },
  {
   "cell_type": "markdown",
   "id": "3c5b10ec",
   "metadata": {},
   "source": [
    "### Create a Master Private Key and Derive the Public Key"
   ]
  },
  {
   "cell_type": "code",
   "execution_count": 3,
   "id": "44cb6655",
   "metadata": {},
   "outputs": [],
   "source": [
    "# Using the same seed as the article\n",
    "w = bip32_master_key('qweqweqweqweqwe')"
   ]
  },
  {
   "cell_type": "code",
   "execution_count": 4,
   "id": "80b4f14e",
   "metadata": {},
   "outputs": [
    {
     "name": "stdout",
     "output_type": "stream",
     "text": [
      "xprv9s21ZrQH143K2KhRQVuMqhz798mvW89J1aJMWEKNfZzv3BPAgBc4TH59K8ZcLt8RrNJvbUzA72A92Grm3MorG2FnFaoZ7B8SDTYXgUBALoi\n"
     ]
    }
   ],
   "source": [
    "print(w)"
   ]
  },
  {
   "cell_type": "code",
   "execution_count": 9,
   "id": "890bb752",
   "metadata": {},
   "outputs": [
    {
     "name": "stdout",
     "output_type": "stream",
     "text": [
      "xpub661MyMwAqRbcEomtWXSNCqvqhAcQuas9NoDxJcizDuXtuyiKDivK15PdAPVkPwVXT9rFbjAnE9P3sLh6xnDawXF1uUXrruH1UvALHF89qdP\n"
     ]
    }
   ],
   "source": [
    "wp = bip32_privtopub(w)\n",
    "print(wp)"
   ]
  },
  {
   "cell_type": "markdown",
   "id": "c77be5ed",
   "metadata": {},
   "source": [
    "### Derive a Child Key, and Use it With Master xpub to Recover Master xpriv"
   ]
  },
  {
   "cell_type": "code",
   "execution_count": 19,
   "id": "69d94e84",
   "metadata": {},
   "outputs": [
    {
     "name": "stdout",
     "output_type": "stream",
     "text": [
      "xprv9uyTuGongdyZAMxZ2euUBbpsAdtE2nxFBmcQn89UT4ZyzrMg5TXD7azCnsnpH9Q7yrYgG7nVakE6BTxJUarLrDA28VxS3ZWDsgYWZUxtNiH\n"
     ]
    }
   ],
   "source": [
    "w0 = bip32_ckd(w,0)\n",
    "print(w0)"
   ]
  },
  {
   "cell_type": "code",
   "execution_count": 20,
   "id": "d37dc78a",
   "metadata": {},
   "outputs": [
    {
     "name": "stdout",
     "output_type": "stream",
     "text": [
      "xprv9s21ZrQH143K2KhRQVuMqhz798mvW89J1aJMWEKNfZzv3BPAgBc4TH59K8ZcLt8RrNJvbUzA72A92Grm3MorG2FnFaoZ7B8SDTYXgUBALoi\n"
     ]
    }
   ],
   "source": [
    "cracked = crack_bip32_privkey(wp,w0)\n",
    "print(cracked)"
   ]
  },
  {
   "cell_type": "code",
   "execution_count": 21,
   "id": "26317f99",
   "metadata": {},
   "outputs": [
    {
     "data": {
      "text/plain": [
       "True"
      ]
     },
     "execution_count": 21,
     "metadata": {},
     "output_type": "execute_result"
    }
   ],
   "source": [
    "cracked == w"
   ]
  },
  {
   "cell_type": "markdown",
   "id": "42ec7e96",
   "metadata": {},
   "source": [
    "## How far back up the tree can you go?"
   ]
  },
  {
   "cell_type": "code",
   "execution_count": 5,
   "id": "522cd673",
   "metadata": {},
   "outputs": [
    {
     "name": "stdout",
     "output_type": "stream",
     "text": [
      "w is xprv9s21ZrQH143K2hvSbgbZDJCm7iz4WB7UeM4p4rpcwDec2rHZD28k5koHhdkodpSLWW9VirG4DfxwC63UMkP5rYdvxKV8ozrkY7Ad4kxBZTT\n",
      "wp is xpub661MyMwAqRbcFBzuhi8ZaS9VfkpYudqL1ZzQsFEEVZBauechkZSzdZ7mYvff4xreYraAQ6ooyByGjsoC3FeRNZPQgaWhXPqLsjjRy2aE2A4\n"
     ]
    }
   ],
   "source": [
    "# Parent public and private keys\n",
    "w = bip32_master_key('not a good seed')\n",
    "wp = bip32_privtopub(w)\n",
    "\n",
    "print(f\"w is {w}\")\n",
    "print(f\"wp is {wp}\")"
   ]
  },
  {
   "cell_type": "code",
   "execution_count": 16,
   "id": "5b418142",
   "metadata": {},
   "outputs": [
    {
     "name": "stdout",
     "output_type": "stream",
     "text": [
      "xprv9vXzy8F2R3nCJQmsDZJgFKJvVSRdjwpNADUigaWnQf6ETnWYg6Q9bg8fYd9rC4KyLwRCXbQSRuTgUwuS62AnK87SErvPz6bjP3Y7Z5s8AW1\n",
      "xpub69XMNdmvFRLVWtrLKaqgcTFf3UG89QYDXSQKUxvPxzdDLaqhDdiQ9UT9Pu9k6SLdetHpFB3GeAvqGrMDGUQf4SrRvXMkde3yZ5xVkgkjtg7\n",
      "xprv9wCGDa5GiRzmL2Qp9K2yjS4fjLz9YkiQKQcWt79Swq3r2QRppfWGexSxk6txQJy3e2YD9WMXxbLsPA7wyx1uqUS1UCqNLqFJ8r8Ymtiv4La\n",
      "xpub6ABcd5cAYoZ4YWVHFLZz6a1QHNpdxDSFgdY7gVZ4WAapuCkyNCpXCkmSbN8Ap39MdJBF48R8U8SpnK9Xt5hzoc1nqDviVxeqYFqru2tghU9\n",
      "xprv9yty3GoxwpYuqBu2tNsJ8ueVaZWkhvmGLPxiKST6jwmhECUoCdrdb5AbUjXPJXC8MD1NUBouz1ae9grUZAGGJW3avua1SAZFfsQg7JznGuo\n",
      "xpub6CtKSnLrnC7D3fyVzQQJW3bE8bMF7PV7hctK7priJHJg6zowkBAt8sV5L2Azk9bkz7g6q4uKvw4VMDbGXRReiFHtW9na5MbrGGKuDGB9SMU\n"
     ]
    }
   ],
   "source": [
    "# Derive some child keys\n",
    "w0 = bip32_ckd(w,0)\n",
    "wp0 = bip32_privtopub(w0)\n",
    "print(w0)\n",
    "print(wp0)\n",
    "\n",
    "w00 = bip32_ckd(w0,0)\n",
    "wp00 = bip32_privtopub(w00)\n",
    "print(w00)\n",
    "print(wp00)\n",
    "\n",
    "w000 = bip32_ckd(w00,0)\n",
    "wp000 = bip32_privtopub(w000)\n",
    "print(w000)\n",
    "print(wp000)"
   ]
  },
  {
   "cell_type": "code",
   "execution_count": 7,
   "id": "8d636ab2",
   "metadata": {},
   "outputs": [
    {
     "name": "stdout",
     "output_type": "stream",
     "text": [
      "xprv9s21ZrQH143K2hvSbgbZDJCm7iz4WB7UeM4p4rpcwDec2rHZD28k5koHhe9aTSpQhTsTVQrxGMRHsZrfh7V5ctn3D2eCqfbCLCsHCeCNE9k\n"
     ]
    }
   ],
   "source": [
    "# What do we get if we crack child key w000 using wp?\n",
    "cracked000 = crack_bip32_privkey(wp,w000)\n",
    "print(cracked000)"
   ]
  },
  {
   "cell_type": "code",
   "execution_count": 11,
   "id": "751a69e5",
   "metadata": {},
   "outputs": [
    {
     "name": "stdout",
     "output_type": "stream",
     "text": [
      "crack of w000 yielded unrecognized key\n"
     ]
    }
   ],
   "source": [
    "# Did we get a private key in the hierarchy?\n",
    "if cracked000 == w0:\n",
    "        print('crack of w000 gave us w0')\n",
    "elif cracked000 == w00:\n",
    "        print('crack of w000 gave us w00')\n",
    "elif cracked000 == w000:\n",
    "        print('crack of w000 gave us w000')\n",
    "else:\n",
    "        print('crack of w000 yielded unrecognized key')\n",
    "            "
   ]
  },
  {
   "cell_type": "code",
   "execution_count": 21,
   "id": "ab19ee00",
   "metadata": {},
   "outputs": [
    {
     "name": "stdout",
     "output_type": "stream",
     "text": [
      "xprv9wCGDa5GiRzmL2Qp9K2yjS4fjLz9YkiQKQcWt79Swq3r2QRppfWGexSxk6txQJy3e2YD9WMXxbLsPA7wyx1uqUS1UCqNLqFJ8r8Ymtiv4La\n"
     ]
    },
    {
     "data": {
      "text/plain": [
       "True"
      ]
     },
     "execution_count": 21,
     "metadata": {},
     "output_type": "execute_result"
    }
   ],
   "source": [
    "# But... since we know w000 and can derive wp00 from the xpub (wp)\n",
    "\n",
    "cracked000 = crack_bip32_privkey(wp00,w000)\n",
    "print(cracked000)\n",
    "cracked000 == w00"
   ]
  },
  {
   "cell_type": "code",
   "execution_count": 22,
   "id": "2da71a34",
   "metadata": {},
   "outputs": [
    {
     "name": "stdout",
     "output_type": "stream",
     "text": [
      "xprv9vXzy8F2R3nCJQmsDZJgFKJvVSRdjwpNADUigaWnQf6ETnWYg6Q9bg8fYd9rC4KyLwRCXbQSRuTgUwuS62AnK87SErvPz6bjP3Y7Z5s8AW1\n"
     ]
    },
    {
     "data": {
      "text/plain": [
       "True"
      ]
     },
     "execution_count": 22,
     "metadata": {},
     "output_type": "execute_result"
    }
   ],
   "source": [
    "# And if we crack again...\n",
    "cracked00 = crack_bip32_privkey(wp0,cracked000)\n",
    "print(cracked00)\n",
    "cracked00 == w0"
   ]
  },
  {
   "cell_type": "code",
   "execution_count": null,
   "id": "f02b0821",
   "metadata": {},
   "outputs": [],
   "source": []
  }
 ],
 "metadata": {
  "kernelspec": {
   "display_name": "Python 3 (ipykernel)",
   "language": "python",
   "name": "python3"
  },
  "language_info": {
   "codemirror_mode": {
    "name": "ipython",
    "version": 3
   },
   "file_extension": ".py",
   "mimetype": "text/x-python",
   "name": "python",
   "nbconvert_exporter": "python",
   "pygments_lexer": "ipython3",
   "version": "3.8.10"
  }
 },
 "nbformat": 4,
 "nbformat_minor": 5
}
