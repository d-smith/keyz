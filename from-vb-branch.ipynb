{
 "cells": [
  {
   "cell_type": "code",
   "execution_count": 1,
   "id": "860d89ba",
   "metadata": {},
   "outputs": [],
   "source": [
    "# attempt to reproduce xpriv derivation from xpub and child private key as per https://bitcoinmagazine.com/technical/deterministic-wallets-advantages-flaw-1385450276\n",
    "\n",
    "\n",
    "# Library code taken from https://github.com/vbuterin/pybitcointools/tree/patch-1/cryptos"
   ]
  },
  {
   "cell_type": "code",
   "execution_count": 2,
   "id": "796d224f",
   "metadata": {
    "scrolled": true
   },
   "outputs": [],
   "source": [
    "from pybctexcerpt import *"
   ]
  },
  {
   "cell_type": "code",
   "execution_count": 3,
   "id": "44cb6655",
   "metadata": {},
   "outputs": [],
   "source": [
    "w = bip32_master_key('qweqweqweqweqwe')"
   ]
  },
  {
   "cell_type": "code",
   "execution_count": 4,
   "id": "80b4f14e",
   "metadata": {},
   "outputs": [
    {
     "name": "stdout",
     "output_type": "stream",
     "text": [
      "xprv9s21ZrQH143K2KhRQVuMqhz798mvW89J1aJMWEKNfZzv3BPAgBc4TH59K8ZcLt8RrNJvbUzA72A92Grm3MorG2FnFaoZ7B8SDTYXgUBALoi\n"
     ]
    }
   ],
   "source": [
    "print(w)"
   ]
  },
  {
   "cell_type": "code",
   "execution_count": 5,
   "id": "890bb752",
   "metadata": {},
   "outputs": [
    {
     "name": "stdout",
     "output_type": "stream",
     "text": [
      "xpub661MyMwAqRbcEomtWXSNCqvqhAcQuas9NoDxJcizDuXtuyiKDivK15PdAPVkPwVXT9rFbjAnE9P3sLh6xnDawXF1uUXrruH1UvALHF89qdP\n"
     ]
    }
   ],
   "source": [
    "wp = bip32_privtopub(w)\n",
    "print(wp)"
   ]
  },
  {
   "cell_type": "code",
   "execution_count": 6,
   "id": "69d94e84",
   "metadata": {},
   "outputs": [
    {
     "name": "stdout",
     "output_type": "stream",
     "text": [
      "xprv9uyTuGongdyZAMxZ2euUBbpsAdtE2nxFBmcQn89UT4ZyzrMg5TXD7azCnsnpH9Q7yrYgG7nVakE6BTxJUarLrDA28VxS3ZWDsgYWZUxtNiH\n"
     ]
    }
   ],
   "source": [
    "w0 = bip32_ckd(w,0)\n",
    "print(w0)"
   ]
  },
  {
   "cell_type": "code",
   "execution_count": 7,
   "id": "d37dc78a",
   "metadata": {},
   "outputs": [
    {
     "name": "stdout",
     "output_type": "stream",
     "text": [
      "xprv9s21ZrQH143K2KhRQVuMqhz798mvW89J1aJMWEKNfZzv3BPAgBc4TH59K8ZcLt8RrNJvbUzA72A92Grm3MorG2FnFaoZ7B8SDTYXgUBALoi\n"
     ]
    }
   ],
   "source": [
    "cracked = crack_bip32_privkey(wp,w0)\n",
    "print(cracked)"
   ]
  },
  {
   "cell_type": "code",
   "execution_count": 8,
   "id": "26317f99",
   "metadata": {},
   "outputs": [
    {
     "data": {
      "text/plain": [
       "True"
      ]
     },
     "execution_count": 8,
     "metadata": {},
     "output_type": "execute_result"
    }
   ],
   "source": [
    "cracked == w"
   ]
  }
 ],
 "metadata": {
  "kernelspec": {
   "display_name": "Python 3 (ipykernel)",
   "language": "python",
   "name": "python3"
  },
  "language_info": {
   "codemirror_mode": {
    "name": "ipython",
    "version": 3
   },
   "file_extension": ".py",
   "mimetype": "text/x-python",
   "name": "python",
   "nbconvert_exporter": "python",
   "pygments_lexer": "ipython3",
   "version": "3.8.10"
  }
 },
 "nbformat": 4,
 "nbformat_minor": 5
}
