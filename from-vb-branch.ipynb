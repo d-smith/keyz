{
 "cells": [
  {
   "cell_type": "markdown",
   "id": "5a95d3ef",
   "metadata": {},
   "source": [
    "## Deriving xpriv Fom xpub and a Child Private Key\n",
    "\n",
    "This notebook contains executable cells that illustrate the points made in [Deterministic Wallets, Their Advantages and Understated Flaws](https://bitcoinmagazine.com/technical/deterministic-wallets-advantages-flaw-1385450276)\n",
    "\n",
    "The code used to illustrate the points in the article was taken from the [patch-1 branch of pybitcointools](https://github.com/vbuterin/pybitcointools/tree/patch-1/cryptos), which was also written by the author of the article (and creator of Ethereum Vitalik Buterin). According to the readme in the main branch, this library is no longer supported, but has been forked into another library linked to in the readme. However, the code below does not work as expected when using this new library, so I've extracted into this repository the subset of code from pybitcointools to provided the example from the article.\n"
   ]
  },
  {
   "cell_type": "code",
   "execution_count": 1,
   "id": "796d224f",
   "metadata": {
    "scrolled": true
   },
   "outputs": [],
   "source": [
    "# Importing from the excerpted pybitcointools code\n",
    "from pybctexcerpt import *"
   ]
  },
  {
   "cell_type": "markdown",
   "id": "3c5b10ec",
   "metadata": {},
   "source": [
    "### Create a Master Private Key and Derive the Public Key"
   ]
  },
  {
   "cell_type": "code",
   "execution_count": 3,
   "id": "44cb6655",
   "metadata": {},
   "outputs": [],
   "source": [
    "# Using the same seed as the article\n",
    "w = bip32_master_key('qweqweqweqweqwe')"
   ]
  },
  {
   "cell_type": "code",
   "execution_count": 4,
   "id": "80b4f14e",
   "metadata": {},
   "outputs": [
    {
     "name": "stdout",
     "output_type": "stream",
     "text": [
      "xprv9s21ZrQH143K2KhRQVuMqhz798mvW89J1aJMWEKNfZzv3BPAgBc4TH59K8ZcLt8RrNJvbUzA72A92Grm3MorG2FnFaoZ7B8SDTYXgUBALoi\n"
     ]
    }
   ],
   "source": [
    "print(w)"
   ]
  },
  {
   "cell_type": "code",
   "execution_count": 9,
   "id": "890bb752",
   "metadata": {},
   "outputs": [
    {
     "name": "stdout",
     "output_type": "stream",
     "text": [
      "xpub661MyMwAqRbcEomtWXSNCqvqhAcQuas9NoDxJcizDuXtuyiKDivK15PdAPVkPwVXT9rFbjAnE9P3sLh6xnDawXF1uUXrruH1UvALHF89qdP\n"
     ]
    }
   ],
   "source": [
    "wp = bip32_privtopub(w)\n",
    "print(wp)"
   ]
  },
  {
   "cell_type": "markdown",
   "id": "c77be5ed",
   "metadata": {},
   "source": [
    "### Derive a Child Key, and Use it With Master xpub to Recover Master xpriv"
   ]
  },
  {
   "cell_type": "code",
   "execution_count": 19,
   "id": "69d94e84",
   "metadata": {},
   "outputs": [
    {
     "name": "stdout",
     "output_type": "stream",
     "text": [
      "xprv9uyTuGongdyZAMxZ2euUBbpsAdtE2nxFBmcQn89UT4ZyzrMg5TXD7azCnsnpH9Q7yrYgG7nVakE6BTxJUarLrDA28VxS3ZWDsgYWZUxtNiH\n"
     ]
    }
   ],
   "source": [
    "w0 = bip32_ckd(w,0)\n",
    "print(w0)"
   ]
  },
  {
   "cell_type": "code",
   "execution_count": 20,
   "id": "d37dc78a",
   "metadata": {},
   "outputs": [
    {
     "name": "stdout",
     "output_type": "stream",
     "text": [
      "xprv9s21ZrQH143K2KhRQVuMqhz798mvW89J1aJMWEKNfZzv3BPAgBc4TH59K8ZcLt8RrNJvbUzA72A92Grm3MorG2FnFaoZ7B8SDTYXgUBALoi\n"
     ]
    }
   ],
   "source": [
    "cracked = crack_bip32_privkey(wp,w0)\n",
    "print(cracked)"
   ]
  },
  {
   "cell_type": "code",
   "execution_count": 21,
   "id": "26317f99",
   "metadata": {},
   "outputs": [
    {
     "data": {
      "text/plain": [
       "True"
      ]
     },
     "execution_count": 21,
     "metadata": {},
     "output_type": "execute_result"
    }
   ],
   "source": [
    "cracked == w"
   ]
  }
 ],
 "metadata": {
  "kernelspec": {
   "display_name": "Python 3 (ipykernel)",
   "language": "python",
   "name": "python3"
  },
  "language_info": {
   "codemirror_mode": {
    "name": "ipython",
    "version": 3
   },
   "file_extension": ".py",
   "mimetype": "text/x-python",
   "name": "python",
   "nbconvert_exporter": "python",
   "pygments_lexer": "ipython3",
   "version": "3.8.10"
  }
 },
 "nbformat": 4,
 "nbformat_minor": 5
}
