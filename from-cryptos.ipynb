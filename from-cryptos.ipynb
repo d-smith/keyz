{
 "cells": [
  {
   "cell_type": "code",
   "execution_count": 39,
   "id": "ce5a4c77",
   "metadata": {},
   "outputs": [],
   "source": [
    "\n",
    "# this is from a fork of VB's code but does not produce the expected output\n",
    "from cryptos import *"
   ]
  },
  {
   "cell_type": "code",
   "execution_count": 44,
   "id": "d8a00148",
   "metadata": {},
   "outputs": [
    {
     "name": "stdout",
     "output_type": "stream",
     "text": [
      "xprv9s21ZrQH143K2KhRQVuMqhz798mvW89J1aJMWEKNfZzv3BPAgBc4TH59K8ZcLt8RrNJvbUzA72A92Grm3MorG2FnFaoZ7B8SDTYXgUBALoi\n"
     ]
    }
   ],
   "source": [
    "w = bip32_master_key('qweqweqweqweqwe')\n",
    "print(w)"
   ]
  },
  {
   "cell_type": "code",
   "execution_count": 45,
   "id": "c1391893",
   "metadata": {},
   "outputs": [
    {
     "name": "stdout",
     "output_type": "stream",
     "text": [
      "xpub661MyMwAqRbcEomtWXSNCqvqhAcQuas9NoDxJcizDuXtuyiKDivK15PdAPVkPwVXT9rFbjAnE9P3sLh6xnDawXF1uUXrruH1UvALHF89qdP\n"
     ]
    }
   ],
   "source": [
    "wp = bip32_privtopub(w)\n",
    "print(wp)"
   ]
  },
  {
   "cell_type": "code",
   "execution_count": 46,
   "id": "a483995d",
   "metadata": {},
   "outputs": [
    {
     "name": "stdout",
     "output_type": "stream",
     "text": [
      "xprv9uyTuGongdyZAMxZ2euUBbpsAdtE2nxFBmcQn89UT4ZyzrMg5TXD7azCnsnpH9Q7yrYgG7nVakE6BTxJUarLrDA28VxS3ZWDsgYWZUxtNiH\n"
     ]
    }
   ],
   "source": [
    " w0 = bip32_ckd(w,0)\n",
    "print(w0)"
   ]
  },
  {
   "cell_type": "code",
   "execution_count": 47,
   "id": "f23be5f3",
   "metadata": {},
   "outputs": [
    {
     "name": "stdout",
     "output_type": "stream",
     "text": [
      "tprv8ZgxMBicQKsPd8vx54ks1Mc6TGC8jeBJM8DUNejq9YVPpn8FfYwoy2SbEJjGMFWkDoqhbabvGNjwV8QWAa9o55XNnE1rmXrV8ZHx8C3H5dG\n"
     ]
    }
   ],
   "source": [
    "cracked = crack_bip32_privkey(wp,w0)\n",
    "print(cracked)"
   ]
  }
 ],
 "metadata": {
  "kernelspec": {
   "display_name": "Python 3 (ipykernel)",
   "language": "python",
   "name": "python3"
  },
  "language_info": {
   "codemirror_mode": {
    "name": "ipython",
    "version": 3
   },
   "file_extension": ".py",
   "mimetype": "text/x-python",
   "name": "python",
   "nbconvert_exporter": "python",
   "pygments_lexer": "ipython3",
   "version": "3.8.10"
  }
 },
 "nbformat": 4,
 "nbformat_minor": 5
}
